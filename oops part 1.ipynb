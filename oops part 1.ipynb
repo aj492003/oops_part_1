{
 "cells": [
  {
   "cell_type": "code",
   "execution_count": 1,
   "id": "bb7f588e-f3b0-4301-a9b7-8a9c7597952c",
   "metadata": {},
   "outputs": [],
   "source": [
    "a =1 "
   ]
  },
  {
   "cell_type": "code",
   "execution_count": 2,
   "id": "71f8c87c-d5ff-4dc0-8890-7487ba7290c6",
   "metadata": {},
   "outputs": [
    {
     "name": "stdout",
     "output_type": "stream",
     "text": [
      "<class 'int'>\n"
     ]
    }
   ],
   "source": [
    "print(type(a))"
   ]
  },
  {
   "cell_type": "code",
   "execution_count": 3,
   "id": "f8f3bd30-8816-446f-991e-0f4fa9822842",
   "metadata": {},
   "outputs": [
    {
     "name": "stdout",
     "output_type": "stream",
     "text": [
      "<class 'str'>\n"
     ]
    }
   ],
   "source": [
    "print(type(\"pwskills\"))"
   ]
  },
  {
   "cell_type": "code",
   "execution_count": 5,
   "id": "4aa0cbd5-2f3f-4707-8b57-c1dcf4a7990f",
   "metadata": {},
   "outputs": [],
   "source": [
    "class test :\n",
    "    pass"
   ]
  },
  {
   "cell_type": "code",
   "execution_count": 6,
   "id": "094fa7b9-a864-4b4a-98cd-1d010515718c",
   "metadata": {},
   "outputs": [],
   "source": [
    "a = test()"
   ]
  },
  {
   "cell_type": "code",
   "execution_count": 7,
   "id": "afbd5abf-ef08-4a87-bc07-45965f51d4b0",
   "metadata": {},
   "outputs": [
    {
     "data": {
      "text/plain": [
       "__main__.test"
      ]
     },
     "execution_count": 7,
     "metadata": {},
     "output_type": "execute_result"
    }
   ],
   "source": [
    "type(a)"
   ]
  },
  {
   "cell_type": "code",
   "execution_count": 8,
   "id": "37a7b8e2-e807-45e9-8fd4-c470b696e5b1",
   "metadata": {},
   "outputs": [
    {
     "name": "stdout",
     "output_type": "stream",
     "text": [
      "<class '__main__.test'>\n"
     ]
    }
   ],
   "source": [
    "print(type(a))"
   ]
  },
  {
   "cell_type": "code",
   "execution_count": 15,
   "id": "054df049-9031-44c6-a661-ca56e7484902",
   "metadata": {},
   "outputs": [],
   "source": [
    "class pwskills :\n",
    "    \n",
    "    def welcome_msg(self):\n",
    "        print(\"welcome to pwskills\")"
   ]
  },
  {
   "cell_type": "code",
   "execution_count": 16,
   "id": "c285b8ce-0c3d-42bf-859c-13e849578a43",
   "metadata": {},
   "outputs": [],
   "source": [
    "aditya = pwskills()"
   ]
  },
  {
   "cell_type": "code",
   "execution_count": 17,
   "id": "24923f91-46f2-45a7-a7f1-9e065fe56b11",
   "metadata": {},
   "outputs": [
    {
     "name": "stdout",
     "output_type": "stream",
     "text": [
      "<class '__main__.pwskills'>\n"
     ]
    }
   ],
   "source": [
    "print(type(aditya))"
   ]
  },
  {
   "cell_type": "code",
   "execution_count": 18,
   "id": "4834cfbb-5b25-4bc5-a09d-7c942608387a",
   "metadata": {},
   "outputs": [
    {
     "name": "stdout",
     "output_type": "stream",
     "text": [
      "welcome to pwskills\n"
     ]
    }
   ],
   "source": [
    "aditya.welcome_msg()"
   ]
  },
  {
   "cell_type": "code",
   "execution_count": 19,
   "id": "f4bda1c0-5110-4c66-b244-8922897823e3",
   "metadata": {},
   "outputs": [],
   "source": [
    "ankur = pwskills()"
   ]
  },
  {
   "cell_type": "code",
   "execution_count": 20,
   "id": "ed7088be-6c14-4761-ac16-e7aa0a926c10",
   "metadata": {},
   "outputs": [
    {
     "name": "stdout",
     "output_type": "stream",
     "text": [
      "welcome to pwskills\n"
     ]
    }
   ],
   "source": [
    "ankur.welcome_msg()"
   ]
  },
  {
   "cell_type": "code",
   "execution_count": 29,
   "id": "f3515ad7-5a32-47cc-9601-1c8d18e00166",
   "metadata": {},
   "outputs": [],
   "source": [
    "class pwskills1 :\n",
    "    \n",
    "    def __init__(self ,phone_number , email_id , student_id ):  #two underscore is there in it\n",
    "        self.phone_number = phone_number\n",
    "        self.email_id = email_id\n",
    "        self.student_id = student_id\n",
    "        \n",
    "    def return_student_details(self) :\n",
    "        return self.student_id,self.phone_number,self.email_id"
   ]
  },
  {
   "cell_type": "code",
   "execution_count": 28,
   "id": "68a3dc7f-2c82-4e6e-8778-cae9be2dc9e8",
   "metadata": {},
   "outputs": [
    {
     "ename": "TypeError",
     "evalue": "pwskills1.__init__() missing 3 required positional arguments: 'phone_number', 'email_id', and 'student_id'",
     "output_type": "error",
     "traceback": [
      "\u001b[0;31m---------------------------------------------------------------------------\u001b[0m",
      "\u001b[0;31mTypeError\u001b[0m                                 Traceback (most recent call last)",
      "Cell \u001b[0;32mIn[28], line 1\u001b[0m\n\u001b[0;32m----> 1\u001b[0m aditya \u001b[38;5;241m=\u001b[39m \u001b[43mpwskills1\u001b[49m\u001b[43m(\u001b[49m\u001b[43m)\u001b[49m\n",
      "\u001b[0;31mTypeError\u001b[0m: pwskills1.__init__() missing 3 required positional arguments: 'phone_number', 'email_id', and 'student_id'"
     ]
    }
   ],
   "source": [
    "aditya = pwskills1()"
   ]
  },
  {
   "cell_type": "code",
   "execution_count": 30,
   "id": "c2d37780-3895-4688-8a03-510e1e3efb2d",
   "metadata": {},
   "outputs": [],
   "source": [
    "aditya = pwskills1(9983747478,\"aditya@gmail.com\",101)"
   ]
  },
  {
   "cell_type": "code",
   "execution_count": 31,
   "id": "5e4a94e3-2366-4237-8fc5-51f8a0044b75",
   "metadata": {},
   "outputs": [
    {
     "data": {
      "text/plain": [
       "(101, 9983747478, 'aditya@gmail.com')"
      ]
     },
     "execution_count": 31,
     "metadata": {},
     "output_type": "execute_result"
    }
   ],
   "source": [
    "aditya.return_student_details()"
   ]
  },
  {
   "cell_type": "code",
   "execution_count": 32,
   "id": "ee34f683-6fc7-45b2-b4b9-a44af107c9d5",
   "metadata": {},
   "outputs": [],
   "source": [
    "ankur = pwskills1(7011793539,\"ankurjha4444@gmail.com\",1000)"
   ]
  },
  {
   "cell_type": "code",
   "execution_count": 33,
   "id": "539e1312-b635-4b6b-acd7-62f60d9252b1",
   "metadata": {},
   "outputs": [
    {
     "data": {
      "text/plain": [
       "(1000, 7011793539, 'ankurjha4444@gmail.com')"
      ]
     },
     "execution_count": 33,
     "metadata": {},
     "output_type": "execute_result"
    }
   ],
   "source": [
    "ankur.return_student_details()"
   ]
  },
  {
   "cell_type": "code",
   "execution_count": 41,
   "id": "105313b4-5903-4cae-8be2-7dfacb1a3e3b",
   "metadata": {},
   "outputs": [
    {
     "data": {
      "text/plain": [
       "7011793539"
      ]
     },
     "execution_count": 41,
     "metadata": {},
     "output_type": "execute_result"
    }
   ],
   "source": [
    "ankur.phone_number"
   ]
  },
  {
   "cell_type": "code",
   "execution_count": 42,
   "id": "0cb340d0-b54b-41bd-a9b9-21bf5c05892f",
   "metadata": {},
   "outputs": [
    {
     "data": {
      "text/plain": [
       "'ankurjha4444@gmail.com'"
      ]
     },
     "execution_count": 42,
     "metadata": {},
     "output_type": "execute_result"
    }
   ],
   "source": [
    "ankur.email_id"
   ]
  },
  {
   "cell_type": "code",
   "execution_count": 43,
   "id": "ba6f11cb-b3ee-47d5-a6c1-dfaf01c7eb4c",
   "metadata": {},
   "outputs": [
    {
     "data": {
      "text/plain": [
       "1000"
      ]
     },
     "execution_count": 43,
     "metadata": {},
     "output_type": "execute_result"
    }
   ],
   "source": [
    "ankur.student_id"
   ]
  },
  {
   "cell_type": "code",
   "execution_count": 51,
   "id": "4ad5a763-dc0b-4d2a-85ca-d0330384d059",
   "metadata": {},
   "outputs": [],
   "source": [
    "class pwskills2 :\n",
    "    \n",
    "    def __init__(self ,phone_number , email_id , student_id ):  #two underscore is there in it\n",
    "        self.phone_number1 = phone_number\n",
    "        self.email_id1 = email_id\n",
    "        self.student_id1 = student_id\n",
    "        \n",
    "    def return_student_details(self) :\n",
    "        return self.student_id1,self.phone_number1,self.email_id1"
   ]
  },
  {
   "cell_type": "code",
   "execution_count": 52,
   "id": "5f31fb35-957a-4d8b-b0e7-95db94342675",
   "metadata": {},
   "outputs": [],
   "source": [
    "jha = pwskills2(9999999999,\"jha@gmail.com\",102)"
   ]
  },
  {
   "cell_type": "code",
   "execution_count": 53,
   "id": "fc35735c-3749-4348-97a9-6dab1b87cdf6",
   "metadata": {},
   "outputs": [
    {
     "data": {
      "text/plain": [
       "<__main__.pwskills2 at 0x7f9fb8110670>"
      ]
     },
     "execution_count": 53,
     "metadata": {},
     "output_type": "execute_result"
    }
   ],
   "source": [
    "jha"
   ]
  },
  {
   "cell_type": "code",
   "execution_count": 54,
   "id": "2fd135fa-8e5b-4e43-9cca-b4acf82baece",
   "metadata": {},
   "outputs": [
    {
     "ename": "AttributeError",
     "evalue": "'pwskills2' object has no attribute 'phone_number'",
     "output_type": "error",
     "traceback": [
      "\u001b[0;31m---------------------------------------------------------------------------\u001b[0m",
      "\u001b[0;31mAttributeError\u001b[0m                            Traceback (most recent call last)",
      "Cell \u001b[0;32mIn[54], line 1\u001b[0m\n\u001b[0;32m----> 1\u001b[0m \u001b[43mjha\u001b[49m\u001b[38;5;241;43m.\u001b[39;49m\u001b[43mphone_number\u001b[49m\n",
      "\u001b[0;31mAttributeError\u001b[0m: 'pwskills2' object has no attribute 'phone_number'"
     ]
    }
   ],
   "source": [
    "jha.phone_number"
   ]
  },
  {
   "cell_type": "code",
   "execution_count": 55,
   "id": "9efa99c9-4ae7-4402-915a-a097338057b9",
   "metadata": {},
   "outputs": [
    {
     "data": {
      "text/plain": [
       "9999999999"
      ]
     },
     "execution_count": 55,
     "metadata": {},
     "output_type": "execute_result"
    }
   ],
   "source": [
    "jha.phone_number1"
   ]
  },
  {
   "cell_type": "code",
   "execution_count": 56,
   "id": "22c48496-fa9d-4614-ae7e-c26a8375c0cd",
   "metadata": {},
   "outputs": [
    {
     "data": {
      "text/plain": [
       "'jha@gmail.com'"
      ]
     },
     "execution_count": 56,
     "metadata": {},
     "output_type": "execute_result"
    }
   ],
   "source": [
    "jha.email_id1"
   ]
  },
  {
   "cell_type": "code",
   "execution_count": 57,
   "id": "fbfd01f4-d05e-4533-94cd-a56529bd8f8e",
   "metadata": {},
   "outputs": [
    {
     "data": {
      "text/plain": [
       "(102, 9999999999, 'jha@gmail.com')"
      ]
     },
     "execution_count": 57,
     "metadata": {},
     "output_type": "execute_result"
    }
   ],
   "source": [
    "jha.return_student_details()"
   ]
  },
  {
   "cell_type": "code",
   "execution_count": 58,
   "id": "66dd9332-f5bf-4643-a6cd-8ec87ef85e43",
   "metadata": {},
   "outputs": [],
   "source": [
    "class pwskills2 :\n",
    "    \n",
    "    def __init__(jha ,phone_number , email_id , student_id ):  #two underscore is there in it\n",
    "        jha.phone_number1 = phone_number\n",
    "        jha.email_id1 = email_id\n",
    "        jha.student_id1 = student_id\n",
    "        \n",
    "    def return_student_details(jha) :\n",
    "        return jha.student_id1,self.phone_number1,self.email_id1"
   ]
  },
  {
   "cell_type": "code",
   "execution_count": 59,
   "id": "75c5a027-a403-48b1-8410-fb94c913f347",
   "metadata": {},
   "outputs": [],
   "source": [
    "ankur = pwskills2(82662353686,\"ank@gmail\",1001)"
   ]
  },
  {
   "cell_type": "code",
   "execution_count": 61,
   "id": "2c232e08-70c5-494c-b3bd-cb69823a6311",
   "metadata": {},
   "outputs": [
    {
     "data": {
      "text/plain": [
       "82662353686"
      ]
     },
     "execution_count": 61,
     "metadata": {},
     "output_type": "execute_result"
    }
   ],
   "source": [
    "ankur.phone_number1"
   ]
  },
  {
   "cell_type": "code",
   "execution_count": null,
   "id": "b2327a0a-5c1b-4f6d-8709-3d4ef6c399e2",
   "metadata": {},
   "outputs": [],
   "source": []
  }
 ],
 "metadata": {
  "kernelspec": {
   "display_name": "Python 3 (ipykernel)",
   "language": "python",
   "name": "python3"
  },
  "language_info": {
   "codemirror_mode": {
    "name": "ipython",
    "version": 3
   },
   "file_extension": ".py",
   "mimetype": "text/x-python",
   "name": "python",
   "nbconvert_exporter": "python",
   "pygments_lexer": "ipython3",
   "version": "3.10.8"
  }
 },
 "nbformat": 4,
 "nbformat_minor": 5
}
